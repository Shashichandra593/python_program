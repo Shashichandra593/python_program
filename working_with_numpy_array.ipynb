{
  "nbformat": 4,
  "nbformat_minor": 0,
  "metadata": {
    "colab": {
      "provenance": []
    },
    "kernelspec": {
      "name": "python3",
      "display_name": "Python 3"
    },
    "language_info": {
      "name": "python"
    }
  },
  "cells": [
    {
      "cell_type": "code",
      "source": [
        "import numpy as np"
      ],
      "metadata": {
        "id": "qXHk1UBZ_RqR"
      },
      "execution_count": 1,
      "outputs": []
    },
    {
      "cell_type": "code",
      "execution_count": 2,
      "metadata": {
        "id": "jQBvThzW_Bwa"
      },
      "outputs": [],
      "source": [
        "SA = np.array([['Student_1', 59, 64, 94, 87, 81],\n",
        "\n",
        "                          ['Student_2', 8, 56, 18, 58, 69],\n",
        "\n",
        "                          ['Student_3', 7, 20, 60, 63, 42],\n",
        "\n",
        "                          ['Student_4', 71, 94, 71, 68, 13],\n",
        "\n",
        "                          ['Student_5', 89, 1, 16, 33, 40],\n",
        "\n",
        "                          ['Student_6', 4, 25, 48, 41, 84],\n",
        "\n",
        "                          ['Student_7', 3, 79, 46, 9, 71],\n",
        "\n",
        "                          ['Student_8', 87, 77, 75, 15, 69],\n",
        "\n",
        "                          ['Student_9', 61, 1, 48, 98, 23],\n",
        "\n",
        "                          ['Student_10', 98, 60, 24, 66, 56],\n",
        "\n",
        "                          ['Student_11', 58, 12, 75, 7, 98],\n",
        "\n",
        "                          ['Student_12', 23, 62, 6, 35, 37],\n",
        "\n",
        "                          ['Student_13', 14, 25, 87, 56, 8],\n",
        "\n",
        "                          ['Student_14', 68, 1, 81, 11, 61],\n",
        "\n",
        "                          ['Student_15', 11, 69, 35, 17, 66]], dtype=object)"
      ]
    },
    {
      "cell_type": "code",
      "source": [
        "suba=SA[ :,1]\n",
        "subb=SA[:,2]\n",
        "print(\"mark of sub a :\",suba)\n",
        "print(\"mark of sub b :\",subb)"
      ],
      "metadata": {
        "colab": {
          "base_uri": "https://localhost:8080/"
        },
        "id": "nsK959_F_XM7",
        "outputId": "6c385055-abc3-4125-dff8-87d4a39c712f"
      },
      "execution_count": 3,
      "outputs": [
        {
          "output_type": "stream",
          "name": "stdout",
          "text": [
            "mark of sub a : [59 8 7 71 89 4 3 87 61 98 58 23 14 68 11]\n",
            "mark of sub b : [64 56 20 94 1 25 79 77 1 60 12 62 25 1 69]\n"
          ]
        }
      ]
    },
    {
      "cell_type": "code",
      "source": [
        "suba>subb"
      ],
      "metadata": {
        "colab": {
          "base_uri": "https://localhost:8080/"
        },
        "id": "0KkETCoDOXd3",
        "outputId": "37ea22ba-0aab-406f-c41b-b2d3f6881f39"
      },
      "execution_count": 4,
      "outputs": [
        {
          "output_type": "execute_result",
          "data": {
            "text/plain": [
              "array([False, False, False, False,  True, False, False,  True,  True,\n",
              "        True,  True, False, False,  True, False])"
            ]
          },
          "metadata": {},
          "execution_count": 4
        }
      ]
    },
    {
      "cell_type": "code",
      "source": [
        "len(SA[suba>subb])"
      ],
      "metadata": {
        "colab": {
          "base_uri": "https://localhost:8080/"
        },
        "id": "TWxbDLKHOu__",
        "outputId": "6f2f1f90-d14a-44a6-dd81-0fea269c2536"
      },
      "execution_count": 5,
      "outputs": [
        {
          "output_type": "execute_result",
          "data": {
            "text/plain": [
              "6"
            ]
          },
          "metadata": {},
          "execution_count": 5
        }
      ]
    },
    {
      "cell_type": "code",
      "source": [
        "SA\n"
      ],
      "metadata": {
        "colab": {
          "base_uri": "https://localhost:8080/"
        },
        "id": "iyo2FvALOzZg",
        "outputId": "176c63a0-54bc-439d-c617-579def13b01e"
      },
      "execution_count": 6,
      "outputs": [
        {
          "output_type": "execute_result",
          "data": {
            "text/plain": [
              "array([['Student_1', 59, 64, 94, 87, 81],\n",
              "       ['Student_2', 8, 56, 18, 58, 69],\n",
              "       ['Student_3', 7, 20, 60, 63, 42],\n",
              "       ['Student_4', 71, 94, 71, 68, 13],\n",
              "       ['Student_5', 89, 1, 16, 33, 40],\n",
              "       ['Student_6', 4, 25, 48, 41, 84],\n",
              "       ['Student_7', 3, 79, 46, 9, 71],\n",
              "       ['Student_8', 87, 77, 75, 15, 69],\n",
              "       ['Student_9', 61, 1, 48, 98, 23],\n",
              "       ['Student_10', 98, 60, 24, 66, 56],\n",
              "       ['Student_11', 58, 12, 75, 7, 98],\n",
              "       ['Student_12', 23, 62, 6, 35, 37],\n",
              "       ['Student_13', 14, 25, 87, 56, 8],\n",
              "       ['Student_14', 68, 1, 81, 11, 61],\n",
              "       ['Student_15', 11, 69, 35, 17, 66]], dtype=object)"
            ]
          },
          "metadata": {},
          "execution_count": 6
        }
      ]
    },
    {
      "cell_type": "code",
      "source": [
        "a=SA[:,1]\n",
        "a.mean()\n"
      ],
      "metadata": {
        "colab": {
          "base_uri": "https://localhost:8080/"
        },
        "id": "X65KFLWsTqDs",
        "outputId": "8f1dbd78-057a-4a5e-f06c-2e24bd0f4720"
      },
      "execution_count": 7,
      "outputs": [
        {
          "output_type": "execute_result",
          "data": {
            "text/plain": [
              "44.06666666666667"
            ]
          },
          "metadata": {},
          "execution_count": 7
        }
      ]
    },
    {
      "cell_type": "code",
      "source": [
        "p=SA[:,1]\n",
        "p"
      ],
      "metadata": {
        "colab": {
          "base_uri": "https://localhost:8080/"
        },
        "id": "KEQpXJ0GTtl7",
        "outputId": "bbfc5ae8-b59d-4d8b-fe27-779d08a9a8ba"
      },
      "execution_count": 8,
      "outputs": [
        {
          "output_type": "execute_result",
          "data": {
            "text/plain": [
              "array([59, 8, 7, 71, 89, 4, 3, 87, 61, 98, 58, 23, 14, 68, 11],\n",
              "      dtype=object)"
            ]
          },
          "metadata": {},
          "execution_count": 8
        }
      ]
    },
    {
      "cell_type": "code",
      "source": [
        "sum(p)\n",
        "avg1=sum(p)/len(p)"
      ],
      "metadata": {
        "id": "Gg7qLzwPUb5M"
      },
      "execution_count": 9,
      "outputs": []
    },
    {
      "cell_type": "code",
      "source": [
        "\n",
        "avg1"
      ],
      "metadata": {
        "colab": {
          "base_uri": "https://localhost:8080/"
        },
        "id": "v4ys4dkeU-3N",
        "outputId": "f173ced6-e993-4cc2-d7fa-2926e891be3d"
      },
      "execution_count": 10,
      "outputs": [
        {
          "output_type": "execute_result",
          "data": {
            "text/plain": [
              "44.06666666666667"
            ]
          },
          "metadata": {},
          "execution_count": 10
        }
      ]
    },
    {
      "cell_type": "code",
      "source": [
        "SA"
      ],
      "metadata": {
        "colab": {
          "base_uri": "https://localhost:8080/"
        },
        "id": "GroeAFibU_0z",
        "outputId": "1695a0ed-4ea4-4b31-c5ff-35cca6bad55f"
      },
      "execution_count": 11,
      "outputs": [
        {
          "output_type": "execute_result",
          "data": {
            "text/plain": [
              "array([['Student_1', 59, 64, 94, 87, 81],\n",
              "       ['Student_2', 8, 56, 18, 58, 69],\n",
              "       ['Student_3', 7, 20, 60, 63, 42],\n",
              "       ['Student_4', 71, 94, 71, 68, 13],\n",
              "       ['Student_5', 89, 1, 16, 33, 40],\n",
              "       ['Student_6', 4, 25, 48, 41, 84],\n",
              "       ['Student_7', 3, 79, 46, 9, 71],\n",
              "       ['Student_8', 87, 77, 75, 15, 69],\n",
              "       ['Student_9', 61, 1, 48, 98, 23],\n",
              "       ['Student_10', 98, 60, 24, 66, 56],\n",
              "       ['Student_11', 58, 12, 75, 7, 98],\n",
              "       ['Student_12', 23, 62, 6, 35, 37],\n",
              "       ['Student_13', 14, 25, 87, 56, 8],\n",
              "       ['Student_14', 68, 1, 81, 11, 61],\n",
              "       ['Student_15', 11, 69, 35, 17, 66]], dtype=object)"
            ]
          },
          "metadata": {},
          "execution_count": 11
        }
      ]
    },
    {
      "cell_type": "code",
      "source": [
        "SA[14]#15 ka data"
      ],
      "metadata": {
        "colab": {
          "base_uri": "https://localhost:8080/"
        },
        "id": "__J1BLSmV1DX",
        "outputId": "95dd5309-b010-46a0-9a72-178562de9ba9"
      },
      "execution_count": 12,
      "outputs": [
        {
          "output_type": "execute_result",
          "data": {
            "text/plain": [
              "array(['Student_15', 11, 69, 35, 17, 66], dtype=object)"
            ]
          },
          "metadata": {},
          "execution_count": 12
        }
      ]
    },
    {
      "cell_type": "code",
      "source": [
        "s15a=SA[14][1]\n",
        "print(\"s15a: \",s15a)"
      ],
      "metadata": {
        "colab": {
          "base_uri": "https://localhost:8080/"
        },
        "id": "4fGSuBUmV-PF",
        "outputId": "c21a4018-07c8-472c-9596-bdc79c804924"
      },
      "execution_count": 13,
      "outputs": [
        {
          "output_type": "stream",
          "name": "stdout",
          "text": [
            "s15a:  11\n"
          ]
        }
      ]
    },
    {
      "cell_type": "code",
      "source": [
        "s15b=SA[14][2]\n",
        "print(\"s15b: \",s15b)"
      ],
      "metadata": {
        "colab": {
          "base_uri": "https://localhost:8080/"
        },
        "id": "vVCzoq4DWNDs",
        "outputId": "581ee1ea-ef74-4947-d9f2-8a83236ab0b2"
      },
      "execution_count": 14,
      "outputs": [
        {
          "output_type": "stream",
          "name": "stdout",
          "text": [
            "s15b:  69\n"
          ]
        }
      ]
    },
    {
      "cell_type": "code",
      "source": [
        "cond=(suba > s15a)&(subb > s15b)\n",
        "cond\n",
        "#len(SA[cond])"
      ],
      "metadata": {
        "colab": {
          "base_uri": "https://localhost:8080/"
        },
        "id": "wleevr2SWT3E",
        "outputId": "037f9770-f4ee-4a66-f25c-2bd818b24eef"
      },
      "execution_count": 15,
      "outputs": [
        {
          "output_type": "execute_result",
          "data": {
            "text/plain": [
              "array([False, False, False,  True, False, False, False,  True, False,\n",
              "       False, False, False, False, False, False])"
            ]
          },
          "metadata": {},
          "execution_count": 15
        }
      ]
    },
    {
      "cell_type": "code",
      "source": [
        "len(SA)"
      ],
      "metadata": {
        "colab": {
          "base_uri": "https://localhost:8080/"
        },
        "id": "AdB2Lwq1WsN2",
        "outputId": "55083534-cbd0-47a2-97a0-0328bed27b88"
      },
      "execution_count": 16,
      "outputs": [
        {
          "output_type": "execute_result",
          "data": {
            "text/plain": [
              "15"
            ]
          },
          "metadata": {},
          "execution_count": 16
        }
      ]
    },
    {
      "cell_type": "code",
      "source": [
        "SA"
      ],
      "metadata": {
        "colab": {
          "base_uri": "https://localhost:8080/"
        },
        "id": "9-_IzaTwfATb",
        "outputId": "899943ba-2fc8-4bae-8ec8-d9c71e012926"
      },
      "execution_count": 17,
      "outputs": [
        {
          "output_type": "execute_result",
          "data": {
            "text/plain": [
              "array([['Student_1', 59, 64, 94, 87, 81],\n",
              "       ['Student_2', 8, 56, 18, 58, 69],\n",
              "       ['Student_3', 7, 20, 60, 63, 42],\n",
              "       ['Student_4', 71, 94, 71, 68, 13],\n",
              "       ['Student_5', 89, 1, 16, 33, 40],\n",
              "       ['Student_6', 4, 25, 48, 41, 84],\n",
              "       ['Student_7', 3, 79, 46, 9, 71],\n",
              "       ['Student_8', 87, 77, 75, 15, 69],\n",
              "       ['Student_9', 61, 1, 48, 98, 23],\n",
              "       ['Student_10', 98, 60, 24, 66, 56],\n",
              "       ['Student_11', 58, 12, 75, 7, 98],\n",
              "       ['Student_12', 23, 62, 6, 35, 37],\n",
              "       ['Student_13', 14, 25, 87, 56, 8],\n",
              "       ['Student_14', 68, 1, 81, 11, 61],\n",
              "       ['Student_15', 11, 69, 35, 17, 66]], dtype=object)"
            ]
          },
          "metadata": {},
          "execution_count": 17
        }
      ]
    },
    {
      "cell_type": "code",
      "source": [
        "mark=SA[3:10 ,:]\n",
        "mark"
      ],
      "metadata": {
        "colab": {
          "base_uri": "https://localhost:8080/"
        },
        "id": "XO3saSdLf_Xs",
        "outputId": "8cf3642c-ec59-4ab1-9536-7c6f57d3c47b"
      },
      "execution_count": 18,
      "outputs": [
        {
          "output_type": "execute_result",
          "data": {
            "text/plain": [
              "array([['Student_4', 71, 94, 71, 68, 13],\n",
              "       ['Student_5', 89, 1, 16, 33, 40],\n",
              "       ['Student_6', 4, 25, 48, 41, 84],\n",
              "       ['Student_7', 3, 79, 46, 9, 71],\n",
              "       ['Student_8', 87, 77, 75, 15, 69],\n",
              "       ['Student_9', 61, 1, 48, 98, 23],\n",
              "       ['Student_10', 98, 60, 24, 66, 56]], dtype=object)"
            ]
          },
          "metadata": {},
          "execution_count": 18
        }
      ]
    },
    {
      "cell_type": "code",
      "source": [
        "v=(mark[: ,1:])\n",
        "v"
      ],
      "metadata": {
        "colab": {
          "base_uri": "https://localhost:8080/"
        },
        "id": "KEX86XZQgLc3",
        "outputId": "e4162f09-7f41-41d4-eda8-7647c9e1f360"
      },
      "execution_count": 19,
      "outputs": [
        {
          "output_type": "execute_result",
          "data": {
            "text/plain": [
              "array([[71, 94, 71, 68, 13],\n",
              "       [89, 1, 16, 33, 40],\n",
              "       [4, 25, 48, 41, 84],\n",
              "       [3, 79, 46, 9, 71],\n",
              "       [87, 77, 75, 15, 69],\n",
              "       [61, 1, 48, 98, 23],\n",
              "       [98, 60, 24, 66, 56]], dtype=object)"
            ]
          },
          "metadata": {},
          "execution_count": 19
        }
      ]
    },
    {
      "cell_type": "code",
      "source": [
        "TM = v.sum(axis=1)\n",
        "TM\n"
      ],
      "metadata": {
        "colab": {
          "base_uri": "https://localhost:8080/"
        },
        "id": "-5xaMzKdg7L-",
        "outputId": "a16a2a8e-34bd-4d62-b561-701e76d33a5e"
      },
      "execution_count": 20,
      "outputs": [
        {
          "output_type": "execute_result",
          "data": {
            "text/plain": [
              "array([317, 179, 202, 208, 323, 231, 304], dtype=object)"
            ]
          },
          "metadata": {},
          "execution_count": 20
        }
      ]
    },
    {
      "cell_type": "code",
      "source": [
        "np.mean(TM)"
      ],
      "metadata": {
        "colab": {
          "base_uri": "https://localhost:8080/"
        },
        "id": "exGzO6yzhXSO",
        "outputId": "fbf431bc-8cb8-4cce-b630-d59b15e179ab"
      },
      "execution_count": 21,
      "outputs": [
        {
          "output_type": "execute_result",
          "data": {
            "text/plain": [
              "252.0"
            ]
          },
          "metadata": {},
          "execution_count": 21
        }
      ]
    },
    {
      "cell_type": "code",
      "source": [
        "a=np.array([\"a\",\"b\",\"b\",'c',\"a\"])\n",
        "u=np.unique(a,return_index=True)\n",
        "u\n",
        "u=np.unique(a,return_inverse=True)\n",
        "u"
      ],
      "metadata": {
        "colab": {
          "base_uri": "https://localhost:8080/"
        },
        "id": "p_2DvoSeiRad",
        "outputId": "22631490-a101-43c5-f3f5-2613d29b90ed"
      },
      "execution_count": 22,
      "outputs": [
        {
          "output_type": "execute_result",
          "data": {
            "text/plain": [
              "(array(['a', 'b', 'c'], dtype='<U1'), array([0, 1, 1, 2, 0]))"
            ]
          },
          "metadata": {},
          "execution_count": 22
        }
      ]
    },
    {
      "cell_type": "code",
      "source": [
        "from ctypes import c_int16\n",
        "#broadcasting in nuumpy array\n",
        "a=np.array([1,2,3,4])\n",
        "b=np.array([10,20,30,40])\n",
        "\n",
        "c1=a*b\n",
        "c1"
      ],
      "metadata": {
        "colab": {
          "base_uri": "https://localhost:8080/"
        },
        "id": "HD8TPb6orzel",
        "outputId": "29317ff1-433d-4dd2-ca39-af3f6550c6ca"
      },
      "execution_count": 23,
      "outputs": [
        {
          "output_type": "execute_result",
          "data": {
            "text/plain": [
              "array([ 10,  40,  90, 160])"
            ]
          },
          "metadata": {},
          "execution_count": 23
        }
      ]
    },
    {
      "cell_type": "code",
      "source": [
        "np.arange(3)"
      ],
      "metadata": {
        "colab": {
          "base_uri": "https://localhost:8080/"
        },
        "id": "uhjBCKe7yj-i",
        "outputId": "ebb56034-424c-4035-f2ab-2bd95bad86f8"
      },
      "execution_count": 24,
      "outputs": [
        {
          "output_type": "execute_result",
          "data": {
            "text/plain": [
              "array([0, 1, 2])"
            ]
          },
          "metadata": {},
          "execution_count": 24
        }
      ]
    },
    {
      "cell_type": "code",
      "source": [
        "np.arange(3)+5"
      ],
      "metadata": {
        "colab": {
          "base_uri": "https://localhost:8080/"
        },
        "id": "prQQ176OzXYU",
        "outputId": "1b078d8d-497e-4d86-90b9-d9013a190877"
      },
      "execution_count": 25,
      "outputs": [
        {
          "output_type": "execute_result",
          "data": {
            "text/plain": [
              "array([5, 6, 7])"
            ]
          },
          "metadata": {},
          "execution_count": 25
        }
      ]
    },
    {
      "cell_type": "code",
      "source": [
        "np.ones((3,3))+np.arange(3)"
      ],
      "metadata": {
        "colab": {
          "base_uri": "https://localhost:8080/"
        },
        "id": "g1NHnonMzZnl",
        "outputId": "c3ac560f-d7d3-4fc8-ae6a-8a260f4d1abc"
      },
      "execution_count": 26,
      "outputs": [
        {
          "output_type": "execute_result",
          "data": {
            "text/plain": [
              "array([[1., 2., 3.],\n",
              "       [1., 2., 3.],\n",
              "       [1., 2., 3.]])"
            ]
          },
          "metadata": {},
          "execution_count": 26
        }
      ]
    },
    {
      "cell_type": "code",
      "source": [
        "import numpy as np"
      ],
      "metadata": {
        "id": "3dZA8yssbGDd"
      },
      "execution_count": 27,
      "outputs": []
    },
    {
      "cell_type": "code",
      "source": [
        "BA = np.array([[30.0, 'unemployed', 'married', 1787.0, 'no', 'no', 'cellular','oct'],\n",
        "\n",
        "       [33.0, 'services', 'married', 4789.0, 'yes', 'yes', 'cellular','may'],\n",
        "\n",
        "       [35.0, 'management', 'single', 1350.0, 'yes', 'no', 'cellular','apr'],\n",
        "\n",
        "       [30.0, 'management', 'married', 1476.0, 'yes', 'yes', 'unknown','jun'],\n",
        "\n",
        "       [59.0, 'blue-collar', 'married', 0.0, 'yes', 'no', 'unknown','may'],\n",
        "\n",
        "       [35.0, 'management', 'single', 747.0, 'no', 'no', 'cellular','feb'],\n",
        "\n",
        "       [36.0, 'self-employed', 'married', 307.0, 'yes', 'no', 'cellular','may'],\n",
        "\n",
        "       [39.0, 'technician', 'married', 147.0, 'yes', 'no', 'cellular','may'],\n",
        "\n",
        "       [41.0, 'entrepreneur', 'married', 221.0, 'yes', 'no', 'unknown','may'],\n",
        "\n",
        "       [43.0, 'services', 'married', -88.0, 'yes', 'yes', 'cellular','apr'],\n",
        "\n",
        "       [39.0, 'services', 'married', 9374.0, 'yes', 'no', 'unknown','may'],\n",
        "\n",
        "       [43.0, 'admin.', 'married', 264.0, 'yes', 'no', 'cellular', 'apr'],\n",
        "\n",
        "       [36.0, 'technician', 'married', 1109.0, 'no', 'no', 'cellular','aug'],\n",
        "\n",
        "       [20.0, 'student', 'single', 502.0, 'no', 'no', 'cellular', 'apr'],\n",
        "\n",
        "       [31.0, 'blue-collar', 'married', 360.0, 'yes', 'yes', 'cellular','jan'],\n",
        "\n",
        "       [40.0, 'management', 'married', 194.0, 'no', 'yes', 'cellular','aug'],\n",
        "\n",
        "       [56.0, 'technician', 'married', 4073.0, 'no', 'no', 'cellular','aug'],\n",
        "\n",
        "       [37.0, 'admin.', 'single', 2317.0, 'yes', 'no', 'cellular', 'apr'],\n",
        "\n",
        "       [25.0, 'blue-collar', 'single', -221.0, 'yes', 'no', 'unknown','may'],\n",
        "\n",
        "       [31.0, 'services', 'married', 132.0, 'no', 'no', 'cellular','jul']], dtype=object)"
      ],
      "metadata": {
        "id": "T9v_fMRFzfrP"
      },
      "execution_count": 28,
      "outputs": []
    },
    {
      "cell_type": "code",
      "source": [
        "#What is the total bank balance of the first 5 records from the data?\n"
      ],
      "metadata": {
        "id": "LJZvG5bNY_2N"
      },
      "execution_count": 29,
      "outputs": []
    },
    {
      "cell_type": "code",
      "source": [
        "R=BA[:5]\n",
        "R"
      ],
      "metadata": {
        "colab": {
          "base_uri": "https://localhost:8080/"
        },
        "id": "vTKbv-Y3ZXzK",
        "outputId": "e6dd08bb-b947-43af-97b8-86ee3a064daf"
      },
      "execution_count": 30,
      "outputs": [
        {
          "output_type": "execute_result",
          "data": {
            "text/plain": [
              "array([[30.0, 'unemployed', 'married', 1787.0, 'no', 'no', 'cellular',\n",
              "        'oct'],\n",
              "       [33.0, 'services', 'married', 4789.0, 'yes', 'yes', 'cellular',\n",
              "        'may'],\n",
              "       [35.0, 'management', 'single', 1350.0, 'yes', 'no', 'cellular',\n",
              "        'apr'],\n",
              "       [30.0, 'management', 'married', 1476.0, 'yes', 'yes', 'unknown',\n",
              "        'jun'],\n",
              "       [59.0, 'blue-collar', 'married', 0.0, 'yes', 'no', 'unknown',\n",
              "        'may']], dtype=object)"
            ]
          },
          "metadata": {},
          "execution_count": 30
        }
      ]
    },
    {
      "cell_type": "code",
      "source": [
        "sum(R[ : ,3])"
      ],
      "metadata": {
        "colab": {
          "base_uri": "https://localhost:8080/"
        },
        "id": "VGTnn9Ota1LJ",
        "outputId": "d7e9dd7e-b22a-4411-86e0-f19457f8483b"
      },
      "execution_count": 31,
      "outputs": [
        {
          "output_type": "execute_result",
          "data": {
            "text/plain": [
              "9402.0"
            ]
          },
          "metadata": {},
          "execution_count": 31
        }
      ]
    },
    {
      "cell_type": "code",
      "source": [
        "#What is the average bank balance?"
      ],
      "metadata": {
        "id": "iy1gU14rbvqx"
      },
      "execution_count": 32,
      "outputs": []
    },
    {
      "cell_type": "code",
      "source": [
        "A=BA[:,3]\n",
        "A"
      ],
      "metadata": {
        "colab": {
          "base_uri": "https://localhost:8080/"
        },
        "id": "sFj4xlVlcAuM",
        "outputId": "bfd7a452-8142-4ec0-be51-3511fe8c4749"
      },
      "execution_count": 33,
      "outputs": [
        {
          "output_type": "execute_result",
          "data": {
            "text/plain": [
              "array([1787.0, 4789.0, 1350.0, 1476.0, 0.0, 747.0, 307.0, 147.0, 221.0,\n",
              "       -88.0, 9374.0, 264.0, 1109.0, 502.0, 360.0, 194.0, 4073.0, 2317.0,\n",
              "       -221.0, 132.0], dtype=object)"
            ]
          },
          "metadata": {},
          "execution_count": 33
        }
      ]
    },
    {
      "cell_type": "code",
      "source": [
        "avg=sum(A)/len(A)\n",
        "avg"
      ],
      "metadata": {
        "colab": {
          "base_uri": "https://localhost:8080/"
        },
        "id": "D1IBkjXXcGZF",
        "outputId": "e34049e8-0e02-4c3b-d116-851e70f4807a"
      },
      "execution_count": 34,
      "outputs": [
        {
          "output_type": "execute_result",
          "data": {
            "text/plain": [
              "1442.0"
            ]
          },
          "metadata": {},
          "execution_count": 34
        }
      ]
    },
    {
      "cell_type": "code",
      "source": [
        "#Count the number of people who has a housing?"
      ],
      "metadata": {
        "id": "-ooovzJwcXJq"
      },
      "execution_count": 35,
      "outputs": []
    },
    {
      "cell_type": "code",
      "source": [
        "H=BA[ :, 4]\n",
        "H"
      ],
      "metadata": {
        "colab": {
          "base_uri": "https://localhost:8080/"
        },
        "id": "imINq6qYcmhS",
        "outputId": "d2d78b9d-3481-4386-a920-920a7d492203"
      },
      "execution_count": 36,
      "outputs": [
        {
          "output_type": "execute_result",
          "data": {
            "text/plain": [
              "array(['no', 'yes', 'yes', 'yes', 'yes', 'no', 'yes', 'yes', 'yes', 'yes',\n",
              "       'yes', 'yes', 'no', 'no', 'yes', 'no', 'no', 'yes', 'yes', 'no'],\n",
              "      dtype=object)"
            ]
          },
          "metadata": {},
          "execution_count": 36
        }
      ]
    },
    {
      "cell_type": "code",
      "source": [
        "yescount=np.count_nonzero(H=='yes')\n",
        "yescount"
      ],
      "metadata": {
        "colab": {
          "base_uri": "https://localhost:8080/"
        },
        "id": "9QrFoUmczLk_",
        "outputId": "b2bd9d9e-295d-4c53-f973-a8e6aea021a0"
      },
      "execution_count": 37,
      "outputs": [
        {
          "output_type": "execute_result",
          "data": {
            "text/plain": [
              "13"
            ]
          },
          "metadata": {},
          "execution_count": 37
        }
      ]
    },
    {
      "cell_type": "code",
      "source": [
        "#Count the number of people who has a loan?"
      ],
      "metadata": {
        "id": "GRRXCm_svY7s"
      },
      "execution_count": 38,
      "outputs": []
    },
    {
      "cell_type": "code",
      "source": [
        "BA"
      ],
      "metadata": {
        "colab": {
          "base_uri": "https://localhost:8080/"
        },
        "id": "cWSBQevmvV_g",
        "outputId": "a3b3c3dd-492f-46e3-b24d-61b0d90b7805"
      },
      "execution_count": 39,
      "outputs": [
        {
          "output_type": "execute_result",
          "data": {
            "text/plain": [
              "array([[30.0, 'unemployed', 'married', 1787.0, 'no', 'no', 'cellular',\n",
              "        'oct'],\n",
              "       [33.0, 'services', 'married', 4789.0, 'yes', 'yes', 'cellular',\n",
              "        'may'],\n",
              "       [35.0, 'management', 'single', 1350.0, 'yes', 'no', 'cellular',\n",
              "        'apr'],\n",
              "       [30.0, 'management', 'married', 1476.0, 'yes', 'yes', 'unknown',\n",
              "        'jun'],\n",
              "       [59.0, 'blue-collar', 'married', 0.0, 'yes', 'no', 'unknown',\n",
              "        'may'],\n",
              "       [35.0, 'management', 'single', 747.0, 'no', 'no', 'cellular',\n",
              "        'feb'],\n",
              "       [36.0, 'self-employed', 'married', 307.0, 'yes', 'no', 'cellular',\n",
              "        'may'],\n",
              "       [39.0, 'technician', 'married', 147.0, 'yes', 'no', 'cellular',\n",
              "        'may'],\n",
              "       [41.0, 'entrepreneur', 'married', 221.0, 'yes', 'no', 'unknown',\n",
              "        'may'],\n",
              "       [43.0, 'services', 'married', -88.0, 'yes', 'yes', 'cellular',\n",
              "        'apr'],\n",
              "       [39.0, 'services', 'married', 9374.0, 'yes', 'no', 'unknown',\n",
              "        'may'],\n",
              "       [43.0, 'admin.', 'married', 264.0, 'yes', 'no', 'cellular', 'apr'],\n",
              "       [36.0, 'technician', 'married', 1109.0, 'no', 'no', 'cellular',\n",
              "        'aug'],\n",
              "       [20.0, 'student', 'single', 502.0, 'no', 'no', 'cellular', 'apr'],\n",
              "       [31.0, 'blue-collar', 'married', 360.0, 'yes', 'yes', 'cellular',\n",
              "        'jan'],\n",
              "       [40.0, 'management', 'married', 194.0, 'no', 'yes', 'cellular',\n",
              "        'aug'],\n",
              "       [56.0, 'technician', 'married', 4073.0, 'no', 'no', 'cellular',\n",
              "        'aug'],\n",
              "       [37.0, 'admin.', 'single', 2317.0, 'yes', 'no', 'cellular', 'apr'],\n",
              "       [25.0, 'blue-collar', 'single', -221.0, 'yes', 'no', 'unknown',\n",
              "        'may'],\n",
              "       [31.0, 'services', 'married', 132.0, 'no', 'no', 'cellular',\n",
              "        'jul']], dtype=object)"
            ]
          },
          "metadata": {},
          "execution_count": 39
        }
      ]
    },
    {
      "cell_type": "code",
      "source": [
        "L=BA[ : ,5]\n",
        "L"
      ],
      "metadata": {
        "colab": {
          "base_uri": "https://localhost:8080/"
        },
        "id": "5fGIKCE14mFe",
        "outputId": "495a2ca6-5466-48f4-9678-ec9ade9d455e"
      },
      "execution_count": 40,
      "outputs": [
        {
          "output_type": "execute_result",
          "data": {
            "text/plain": [
              "array(['no', 'yes', 'no', 'yes', 'no', 'no', 'no', 'no', 'no', 'yes',\n",
              "       'no', 'no', 'no', 'no', 'yes', 'yes', 'no', 'no', 'no', 'no'],\n",
              "      dtype=object)"
            ]
          },
          "metadata": {},
          "execution_count": 40
        }
      ]
    },
    {
      "cell_type": "code",
      "source": [
        "yesloan=np.count_nonzero(L=='yes')\n",
        "yesloan"
      ],
      "metadata": {
        "colab": {
          "base_uri": "https://localhost:8080/"
        },
        "id": "PFDuBENR4wXm",
        "outputId": "3710f477-5852-4908-f8e1-3417947824be"
      },
      "execution_count": 41,
      "outputs": [
        {
          "output_type": "execute_result",
          "data": {
            "text/plain": [
              "5"
            ]
          },
          "metadata": {},
          "execution_count": 41
        }
      ]
    },
    {
      "cell_type": "code",
      "source": [
        "#No of people who have a \"cellular\" contact and also \"married\" and hold a \"management\" job?"
      ],
      "metadata": {
        "id": "2FMW3jcT496_"
      },
      "execution_count": 42,
      "outputs": []
    },
    {
      "cell_type": "code",
      "source": [
        "BA"
      ],
      "metadata": {
        "colab": {
          "base_uri": "https://localhost:8080/"
        },
        "id": "FiU5uTKR55wO",
        "outputId": "86c94447-629b-45ae-938b-0a3b404ade92"
      },
      "execution_count": 43,
      "outputs": [
        {
          "output_type": "execute_result",
          "data": {
            "text/plain": [
              "array([[30.0, 'unemployed', 'married', 1787.0, 'no', 'no', 'cellular',\n",
              "        'oct'],\n",
              "       [33.0, 'services', 'married', 4789.0, 'yes', 'yes', 'cellular',\n",
              "        'may'],\n",
              "       [35.0, 'management', 'single', 1350.0, 'yes', 'no', 'cellular',\n",
              "        'apr'],\n",
              "       [30.0, 'management', 'married', 1476.0, 'yes', 'yes', 'unknown',\n",
              "        'jun'],\n",
              "       [59.0, 'blue-collar', 'married', 0.0, 'yes', 'no', 'unknown',\n",
              "        'may'],\n",
              "       [35.0, 'management', 'single', 747.0, 'no', 'no', 'cellular',\n",
              "        'feb'],\n",
              "       [36.0, 'self-employed', 'married', 307.0, 'yes', 'no', 'cellular',\n",
              "        'may'],\n",
              "       [39.0, 'technician', 'married', 147.0, 'yes', 'no', 'cellular',\n",
              "        'may'],\n",
              "       [41.0, 'entrepreneur', 'married', 221.0, 'yes', 'no', 'unknown',\n",
              "        'may'],\n",
              "       [43.0, 'services', 'married', -88.0, 'yes', 'yes', 'cellular',\n",
              "        'apr'],\n",
              "       [39.0, 'services', 'married', 9374.0, 'yes', 'no', 'unknown',\n",
              "        'may'],\n",
              "       [43.0, 'admin.', 'married', 264.0, 'yes', 'no', 'cellular', 'apr'],\n",
              "       [36.0, 'technician', 'married', 1109.0, 'no', 'no', 'cellular',\n",
              "        'aug'],\n",
              "       [20.0, 'student', 'single', 502.0, 'no', 'no', 'cellular', 'apr'],\n",
              "       [31.0, 'blue-collar', 'married', 360.0, 'yes', 'yes', 'cellular',\n",
              "        'jan'],\n",
              "       [40.0, 'management', 'married', 194.0, 'no', 'yes', 'cellular',\n",
              "        'aug'],\n",
              "       [56.0, 'technician', 'married', 4073.0, 'no', 'no', 'cellular',\n",
              "        'aug'],\n",
              "       [37.0, 'admin.', 'single', 2317.0, 'yes', 'no', 'cellular', 'apr'],\n",
              "       [25.0, 'blue-collar', 'single', -221.0, 'yes', 'no', 'unknown',\n",
              "        'may'],\n",
              "       [31.0, 'services', 'married', 132.0, 'no', 'no', 'cellular',\n",
              "        'jul']], dtype=object)"
            ]
          },
          "metadata": {},
          "execution_count": 43
        }
      ]
    },
    {
      "cell_type": "code",
      "source": [
        "C=BA[ : ,(1,2,6)]\n",
        "C"
      ],
      "metadata": {
        "colab": {
          "base_uri": "https://localhost:8080/"
        },
        "id": "hEV3PYYh6F4s",
        "outputId": "046f1852-89ab-4ff2-cffa-138ff33ecbd8"
      },
      "execution_count": 44,
      "outputs": [
        {
          "output_type": "execute_result",
          "data": {
            "text/plain": [
              "array([['unemployed', 'married', 'cellular'],\n",
              "       ['services', 'married', 'cellular'],\n",
              "       ['management', 'single', 'cellular'],\n",
              "       ['management', 'married', 'unknown'],\n",
              "       ['blue-collar', 'married', 'unknown'],\n",
              "       ['management', 'single', 'cellular'],\n",
              "       ['self-employed', 'married', 'cellular'],\n",
              "       ['technician', 'married', 'cellular'],\n",
              "       ['entrepreneur', 'married', 'unknown'],\n",
              "       ['services', 'married', 'cellular'],\n",
              "       ['services', 'married', 'unknown'],\n",
              "       ['admin.', 'married', 'cellular'],\n",
              "       ['technician', 'married', 'cellular'],\n",
              "       ['student', 'single', 'cellular'],\n",
              "       ['blue-collar', 'married', 'cellular'],\n",
              "       ['management', 'married', 'cellular'],\n",
              "       ['technician', 'married', 'cellular'],\n",
              "       ['admin.', 'single', 'cellular'],\n",
              "       ['blue-collar', 'single', 'unknown'],\n",
              "       ['services', 'married', 'cellular']], dtype=object)"
            ]
          },
          "metadata": {},
          "execution_count": 44
        }
      ]
    },
    {
      "cell_type": "code",
      "source": [
        "marital_status=C[: ,1]\n",
        "marital_status\n"
      ],
      "metadata": {
        "colab": {
          "base_uri": "https://localhost:8080/"
        },
        "id": "nyIem8WHCh-0",
        "outputId": "1e2f3713-f23f-4980-c090-ecd925396fae"
      },
      "execution_count": 45,
      "outputs": [
        {
          "output_type": "execute_result",
          "data": {
            "text/plain": [
              "array(['married', 'married', 'single', 'married', 'married', 'single',\n",
              "       'married', 'married', 'married', 'married', 'married', 'married',\n",
              "       'married', 'single', 'married', 'married', 'married', 'single',\n",
              "       'single', 'married'], dtype=object)"
            ]
          },
          "metadata": {},
          "execution_count": 45
        }
      ]
    },
    {
      "cell_type": "code",
      "source": [
        "job_type =C[ : ,0]\n",
        "job_type\n"
      ],
      "metadata": {
        "colab": {
          "base_uri": "https://localhost:8080/"
        },
        "id": "e4eivjIyD8Ps",
        "outputId": "cec34481-4655-471d-ffc5-e473cd7727cb"
      },
      "execution_count": 46,
      "outputs": [
        {
          "output_type": "execute_result",
          "data": {
            "text/plain": [
              "array(['unemployed', 'services', 'management', 'management',\n",
              "       'blue-collar', 'management', 'self-employed', 'technician',\n",
              "       'entrepreneur', 'services', 'services', 'admin.', 'technician',\n",
              "       'student', 'blue-collar', 'management', 'technician', 'admin.',\n",
              "       'blue-collar', 'services'], dtype=object)"
            ]
          },
          "metadata": {},
          "execution_count": 46
        }
      ]
    },
    {
      "cell_type": "code",
      "source": [
        "contact_type =C[ :,2]\n",
        "contact_type"
      ],
      "metadata": {
        "colab": {
          "base_uri": "https://localhost:8080/"
        },
        "id": "atO0M7dOEAsg",
        "outputId": "b73b0ceb-f10c-484f-c622-fcbc83ced0e7"
      },
      "execution_count": 47,
      "outputs": [
        {
          "output_type": "execute_result",
          "data": {
            "text/plain": [
              "array(['cellular', 'cellular', 'cellular', 'unknown', 'unknown',\n",
              "       'cellular', 'cellular', 'cellular', 'unknown', 'cellular',\n",
              "       'unknown', 'cellular', 'cellular', 'cellular', 'cellular',\n",
              "       'cellular', 'cellular', 'cellular', 'unknown', 'cellular'],\n",
              "      dtype=object)"
            ]
          },
          "metadata": {},
          "execution_count": 47
        }
      ]
    },
    {
      "cell_type": "code",
      "source": [
        "#No of people who have a \"cellular\" contact and also \"married\" and hold a \"management\" j\n",
        "\n",
        "filtered_data = (contact_type == 'cellular') & (marital_status == 'married') & (job_type == 'management')\n",
        "filtered_data\n",
        "d=filtered_data\n",
        "d"
      ],
      "metadata": {
        "colab": {
          "base_uri": "https://localhost:8080/"
        },
        "id": "fxOiSUH66Sai",
        "outputId": "804fa641-1781-472d-be38-51117aff2321"
      },
      "execution_count": 48,
      "outputs": [
        {
          "output_type": "execute_result",
          "data": {
            "text/plain": [
              "array([False, False, False, False, False, False, False, False, False,\n",
              "       False, False, False, False, False, False,  True, False, False,\n",
              "       False, False])"
            ]
          },
          "metadata": {},
          "execution_count": 48
        }
      ]
    },
    {
      "cell_type": "code",
      "source": [
        "dat=np.count_nonzero(d)\n",
        "dat"
      ],
      "metadata": {
        "colab": {
          "base_uri": "https://localhost:8080/"
        },
        "id": "FV8OYccU7V8a",
        "outputId": "7b3127e8-2846-4a12-ffca-d10db2b8acbb"
      },
      "execution_count": 49,
      "outputs": [
        {
          "output_type": "execute_result",
          "data": {
            "text/plain": [
              "1"
            ]
          },
          "metadata": {},
          "execution_count": 49
        }
      ]
    },
    {
      "cell_type": "code",
      "source": [
        "#Find the total balance of the customers aged between 25 and 40(both inclusive).\n",
        ""
      ],
      "metadata": {
        "id": "gV743HsIEK1-"
      },
      "execution_count": 50,
      "outputs": []
    },
    {
      "cell_type": "code",
      "source": [
        "ages=BA[ :,0]\n",
        "filtered_data = (ages >= 25) & (ages <= 40)\n",
        "filtered_data"
      ],
      "metadata": {
        "colab": {
          "base_uri": "https://localhost:8080/"
        },
        "id": "uZQ1eTN2LvEz",
        "outputId": "9b8adf90-024a-42be-c95a-f43f7044f1f1"
      },
      "execution_count": 51,
      "outputs": [
        {
          "output_type": "execute_result",
          "data": {
            "text/plain": [
              "array([ True,  True,  True,  True, False,  True,  True,  True, False,\n",
              "       False,  True, False,  True, False,  True,  True, False,  True,\n",
              "        True,  True])"
            ]
          },
          "metadata": {},
          "execution_count": 51
        }
      ]
    },
    {
      "cell_type": "code",
      "source": [
        "total_balance=BA[:,3]\n",
        "total_balance"
      ],
      "metadata": {
        "colab": {
          "base_uri": "https://localhost:8080/"
        },
        "id": "N_bvOkZCLwRx",
        "outputId": "acd64053-f8e0-435a-bfae-17be352f0f73"
      },
      "execution_count": 52,
      "outputs": [
        {
          "output_type": "execute_result",
          "data": {
            "text/plain": [
              "array([1787.0, 4789.0, 1350.0, 1476.0, 0.0, 747.0, 307.0, 147.0, 221.0,\n",
              "       -88.0, 9374.0, 264.0, 1109.0, 502.0, 360.0, 194.0, 4073.0, 2317.0,\n",
              "       -221.0, 132.0], dtype=object)"
            ]
          },
          "metadata": {},
          "execution_count": 52
        }
      ]
    },
    {
      "cell_type": "code",
      "source": [],
      "metadata": {
        "id": "FluSlVS6OZii"
      },
      "execution_count": 52,
      "outputs": []
    },
    {
      "cell_type": "code",
      "source": [
        "total=np.sum(total_balance[filtered_data])\n",
        "total"
      ],
      "metadata": {
        "colab": {
          "base_uri": "https://localhost:8080/"
        },
        "id": "QeuP9ZTiMLqb",
        "outputId": "e0f437d2-0a05-403c-8fb8-59032b018bd0"
      },
      "execution_count": 53,
      "outputs": [
        {
          "output_type": "execute_result",
          "data": {
            "text/plain": [
              "23868.0"
            ]
          },
          "metadata": {},
          "execution_count": 53
        }
      ]
    },
    {
      "cell_type": "code",
      "source": [
        "#No of people who are single but have more than average bank balance?\n",
        ""
      ],
      "metadata": {
        "id": "s3ZVG3G0Me7C"
      },
      "execution_count": 54,
      "outputs": []
    },
    {
      "cell_type": "code",
      "source": [
        "import numpy as np"
      ],
      "metadata": {
        "id": "etbfsvmWCZUm"
      },
      "execution_count": 55,
      "outputs": []
    },
    {
      "cell_type": "code",
      "source": [
        "BA"
      ],
      "metadata": {
        "colab": {
          "base_uri": "https://localhost:8080/"
        },
        "id": "oGqCccupCghn",
        "outputId": "a2bd3a32-07be-476b-b36a-875b084bd3b9"
      },
      "execution_count": 56,
      "outputs": [
        {
          "output_type": "execute_result",
          "data": {
            "text/plain": [
              "array([[30.0, 'unemployed', 'married', 1787.0, 'no', 'no', 'cellular',\n",
              "        'oct'],\n",
              "       [33.0, 'services', 'married', 4789.0, 'yes', 'yes', 'cellular',\n",
              "        'may'],\n",
              "       [35.0, 'management', 'single', 1350.0, 'yes', 'no', 'cellular',\n",
              "        'apr'],\n",
              "       [30.0, 'management', 'married', 1476.0, 'yes', 'yes', 'unknown',\n",
              "        'jun'],\n",
              "       [59.0, 'blue-collar', 'married', 0.0, 'yes', 'no', 'unknown',\n",
              "        'may'],\n",
              "       [35.0, 'management', 'single', 747.0, 'no', 'no', 'cellular',\n",
              "        'feb'],\n",
              "       [36.0, 'self-employed', 'married', 307.0, 'yes', 'no', 'cellular',\n",
              "        'may'],\n",
              "       [39.0, 'technician', 'married', 147.0, 'yes', 'no', 'cellular',\n",
              "        'may'],\n",
              "       [41.0, 'entrepreneur', 'married', 221.0, 'yes', 'no', 'unknown',\n",
              "        'may'],\n",
              "       [43.0, 'services', 'married', -88.0, 'yes', 'yes', 'cellular',\n",
              "        'apr'],\n",
              "       [39.0, 'services', 'married', 9374.0, 'yes', 'no', 'unknown',\n",
              "        'may'],\n",
              "       [43.0, 'admin.', 'married', 264.0, 'yes', 'no', 'cellular', 'apr'],\n",
              "       [36.0, 'technician', 'married', 1109.0, 'no', 'no', 'cellular',\n",
              "        'aug'],\n",
              "       [20.0, 'student', 'single', 502.0, 'no', 'no', 'cellular', 'apr'],\n",
              "       [31.0, 'blue-collar', 'married', 360.0, 'yes', 'yes', 'cellular',\n",
              "        'jan'],\n",
              "       [40.0, 'management', 'married', 194.0, 'no', 'yes', 'cellular',\n",
              "        'aug'],\n",
              "       [56.0, 'technician', 'married', 4073.0, 'no', 'no', 'cellular',\n",
              "        'aug'],\n",
              "       [37.0, 'admin.', 'single', 2317.0, 'yes', 'no', 'cellular', 'apr'],\n",
              "       [25.0, 'blue-collar', 'single', -221.0, 'yes', 'no', 'unknown',\n",
              "        'may'],\n",
              "       [31.0, 'services', 'married', 132.0, 'no', 'no', 'cellular',\n",
              "        'jul']], dtype=object)"
            ]
          },
          "metadata": {},
          "execution_count": 56
        }
      ]
    },
    {
      "cell_type": "code",
      "source": [
        "maratial_status=BA[ :,2]\n",
        "m=maratial_status ==\"single\"\n",
        "m"
      ],
      "metadata": {
        "colab": {
          "base_uri": "https://localhost:8080/"
        },
        "id": "dAkx1SlCCqbS",
        "outputId": "59f199ba-06ca-4dfb-dc81-962f0ce97393"
      },
      "execution_count": 75,
      "outputs": [
        {
          "output_type": "execute_result",
          "data": {
            "text/plain": [
              "array([False, False,  True, False, False,  True, False, False, False,\n",
              "       False, False, False, False,  True, False, False, False,  True,\n",
              "        True, False])"
            ]
          },
          "metadata": {},
          "execution_count": 75
        }
      ]
    },
    {
      "cell_type": "code",
      "source": [
        "#No of people who are single but have more than average bank balance?\n",
        ""
      ],
      "metadata": {
        "id": "B49NqgzMC5X-"
      },
      "execution_count": 76,
      "outputs": []
    },
    {
      "cell_type": "code",
      "source": [
        "balance=BA[0:,3]\n",
        "balance"
      ],
      "metadata": {
        "colab": {
          "base_uri": "https://localhost:8080/"
        },
        "id": "bbaJBqcEDJyn",
        "outputId": "0c2d8323-25d5-4d2a-c829-0286c882a755"
      },
      "execution_count": 77,
      "outputs": [
        {
          "output_type": "execute_result",
          "data": {
            "text/plain": [
              "array([1787.0, 4789.0, 1350.0, 1476.0, 0.0, 747.0, 307.0, 147.0, 221.0,\n",
              "       -88.0, 9374.0, 264.0, 1109.0, 502.0, 360.0, 194.0, 4073.0, 2317.0,\n",
              "       -221.0, 132.0], dtype=object)"
            ]
          },
          "metadata": {},
          "execution_count": 77
        }
      ]
    },
    {
      "cell_type": "code",
      "source": [
        "avg=sum(balance)/len(balance)\n",
        "avg"
      ],
      "metadata": {
        "colab": {
          "base_uri": "https://localhost:8080/"
        },
        "id": "WvfU3vjUDQ_E",
        "outputId": "ee588211-e68e-4fa6-900e-621801bb41d0"
      },
      "execution_count": 78,
      "outputs": [
        {
          "output_type": "execute_result",
          "data": {
            "text/plain": [
              "1442.0"
            ]
          },
          "metadata": {},
          "execution_count": 78
        }
      ]
    },
    {
      "cell_type": "code",
      "source": [
        "cond=balance>avg\n",
        "cond"
      ],
      "metadata": {
        "colab": {
          "base_uri": "https://localhost:8080/"
        },
        "id": "dZz13LnbDZ8_",
        "outputId": "cccb8678-17de-44d2-d763-992c618a32ac"
      },
      "execution_count": 79,
      "outputs": [
        {
          "output_type": "execute_result",
          "data": {
            "text/plain": [
              "array([ True,  True, False,  True, False, False, False, False, False,\n",
              "       False,  True, False, False, False, False, False,  True,  True,\n",
              "       False, False])"
            ]
          },
          "metadata": {},
          "execution_count": 79
        }
      ]
    },
    {
      "cell_type": "code",
      "source": [
        "filter= m&cond\n",
        "filter"
      ],
      "metadata": {
        "colab": {
          "base_uri": "https://localhost:8080/"
        },
        "id": "hskm4aa4DnNu",
        "outputId": "81913e3f-c30f-452f-dd26-c6e3dc578c89"
      },
      "execution_count": 83,
      "outputs": [
        {
          "output_type": "execute_result",
          "data": {
            "text/plain": [
              "array([False, False, False, False, False, False, False, False, False,\n",
              "       False, False, False, False, False, False, False, False,  True,\n",
              "       False, False])"
            ]
          },
          "metadata": {},
          "execution_count": 83
        }
      ]
    },
    {
      "cell_type": "code",
      "source": [
        "np.count_nonzero(filter)"
      ],
      "metadata": {
        "colab": {
          "base_uri": "https://localhost:8080/"
        },
        "id": "ndBjCMeREBFy",
        "outputId": "da703881-4d9a-4aa0-a76b-9a02a9f31145"
      },
      "execution_count": 85,
      "outputs": [
        {
          "output_type": "execute_result",
          "data": {
            "text/plain": [
              "1"
            ]
          },
          "metadata": {},
          "execution_count": 85
        }
      ]
    },
    {
      "cell_type": "code",
      "source": [
        "#No of people who had a loan and housing?"
      ],
      "metadata": {
        "id": "LLcIDtHSEg91"
      },
      "execution_count": 86,
      "outputs": []
    },
    {
      "cell_type": "code",
      "source": [
        "loan=BA[ :,5]\n",
        "loan"
      ],
      "metadata": {
        "colab": {
          "base_uri": "https://localhost:8080/"
        },
        "id": "Jsml0G5_GUer",
        "outputId": "c2a57153-f424-46b9-e937-1f5553c53417"
      },
      "execution_count": 88,
      "outputs": [
        {
          "output_type": "execute_result",
          "data": {
            "text/plain": [
              "array(['no', 'yes', 'no', 'yes', 'no', 'no', 'no', 'no', 'no', 'yes',\n",
              "       'no', 'no', 'no', 'no', 'yes', 'yes', 'no', 'no', 'no', 'no'],\n",
              "      dtype=object)"
            ]
          },
          "metadata": {},
          "execution_count": 88
        }
      ]
    },
    {
      "cell_type": "code",
      "source": [
        "housing=BA[ :,4]\n",
        "housing"
      ],
      "metadata": {
        "colab": {
          "base_uri": "https://localhost:8080/"
        },
        "id": "-mp8dwQ1GeXu",
        "outputId": "56f803c9-a0ba-43f2-bf96-224ce47c2dd4"
      },
      "execution_count": 89,
      "outputs": [
        {
          "output_type": "execute_result",
          "data": {
            "text/plain": [
              "array(['no', 'yes', 'yes', 'yes', 'yes', 'no', 'yes', 'yes', 'yes', 'yes',\n",
              "       'yes', 'yes', 'no', 'no', 'yes', 'no', 'no', 'yes', 'yes', 'no'],\n",
              "      dtype=object)"
            ]
          },
          "metadata": {},
          "execution_count": 89
        }
      ]
    },
    {
      "cell_type": "code",
      "source": [],
      "metadata": {
        "id": "orGN4ZziMnJa"
      },
      "execution_count": null,
      "outputs": []
    },
    {
      "cell_type": "code",
      "source": [
        "\n",
        "F=(loan=='yes') & (housing=='yes')\n",
        "F"
      ],
      "metadata": {
        "colab": {
          "base_uri": "https://localhost:8080/"
        },
        "id": "3MsPmfNDGlza",
        "outputId": "fb22f061-d5ac-40ef-9126-dfd9e006ce29"
      },
      "execution_count": 95,
      "outputs": [
        {
          "output_type": "execute_result",
          "data": {
            "text/plain": [
              "array([False,  True, False,  True, False, False, False, False, False,\n",
              "        True, False, False, False, False,  True, False, False, False,\n",
              "       False, False])"
            ]
          },
          "metadata": {},
          "execution_count": 95
        }
      ]
    },
    {
      "cell_type": "code",
      "source": [
        "np.count_nonzero(F)"
      ],
      "metadata": {
        "colab": {
          "base_uri": "https://localhost:8080/"
        },
        "id": "yhrI37RQGuVD",
        "outputId": "09429699-eb1f-44a7-9e4c-af0f0b804c84"
      },
      "execution_count": 97,
      "outputs": [
        {
          "output_type": "execute_result",
          "data": {
            "text/plain": [
              "4"
            ]
          },
          "metadata": {},
          "execution_count": 97
        }
      ]
    },
    {
      "cell_type": "code",
      "source": [
        "'''Company has decided to give a bonus of 5% of their account balance to those\n",
        "account holders whose age is more than or equal to 55 years and whose account\n",
        " balance is more than 2000. Calculate the sum of the total bank balance\n",
        " to the account holders(mentioned above) after crediting their bonus amount.'''"
      ],
      "metadata": {
        "colab": {
          "base_uri": "https://localhost:8080/",
          "height": 53
        },
        "id": "XuNweApdHr3S",
        "outputId": "36c5f3d6-788b-4f49-f3f9-66c93edc098b"
      },
      "execution_count": 98,
      "outputs": [
        {
          "output_type": "execute_result",
          "data": {
            "text/plain": [
              "'Company has decided to give a bonus of 5% of their account balance to those \\naccount holders whose age is more than or equal to 55 years and whose account\\n balance is more than 2000. Calculate the sum of the total bank balance\\n to the account holders(mentioned above) after crediting their bonus amount.'"
            ],
            "application/vnd.google.colaboratory.intrinsic+json": {
              "type": "string"
            }
          },
          "metadata": {},
          "execution_count": 98
        }
      ]
    },
    {
      "cell_type": "code",
      "source": [
        "balance=BA[ :,3]\n",
        "balance"
      ],
      "metadata": {
        "colab": {
          "base_uri": "https://localhost:8080/"
        },
        "id": "MB970jsqIYio",
        "outputId": "44530535-0159-4bf5-b9c1-3e1755a2c931"
      },
      "execution_count": 111,
      "outputs": [
        {
          "output_type": "execute_result",
          "data": {
            "text/plain": [
              "array([1787.0, 4789.0, 1350.0, 1476.0, 0.0, 747.0, 307.0, 147.0, 221.0,\n",
              "       -88.0, 9374.0, 264.0, 1109.0, 502.0, 360.0, 194.0, 4073.0, 2317.0,\n",
              "       -221.0, 132.0], dtype=object)"
            ]
          },
          "metadata": {},
          "execution_count": 111
        }
      ]
    },
    {
      "cell_type": "code",
      "source": [
        "age=BA[ :,0]\n",
        "age\n"
      ],
      "metadata": {
        "colab": {
          "base_uri": "https://localhost:8080/"
        },
        "id": "yj--9ajRI0Wi",
        "outputId": "cb9bf5a9-bebf-41b7-9c67-38c6d2f75c3e"
      },
      "execution_count": 121,
      "outputs": [
        {
          "output_type": "execute_result",
          "data": {
            "text/plain": [
              "array([30.0, 33.0, 35.0, 30.0, 59.0, 35.0, 36.0, 39.0, 41.0, 43.0, 39.0,\n",
              "       43.0, 36.0, 20.0, 31.0, 40.0, 56.0, 37.0, 25.0, 31.0], dtype=object)"
            ]
          },
          "metadata": {},
          "execution_count": 121
        }
      ]
    },
    {
      "cell_type": "code",
      "source": [
        "filter_data= (age >= 55) & (balance > 2000)\n",
        "filter_data"
      ],
      "metadata": {
        "colab": {
          "base_uri": "https://localhost:8080/"
        },
        "id": "tSd1RjzxMvlN",
        "outputId": "5c857c03-6a44-4998-c402-31c09a794a94"
      },
      "execution_count": 123,
      "outputs": [
        {
          "output_type": "execute_result",
          "data": {
            "text/plain": [
              "array([False, False, False, False, False, False, False, False, False,\n",
              "       False, False, False, False, False, False, False,  True, False,\n",
              "       False, False])"
            ]
          },
          "metadata": {},
          "execution_count": 123
        }
      ]
    },
    {
      "cell_type": "code",
      "source": [
        "total_balance_with_bonus = np.sum(balance[filter_data] * 1.05)\n",
        "total_balance_with_bonus"
      ],
      "metadata": {
        "colab": {
          "base_uri": "https://localhost:8080/"
        },
        "id": "YCTIVfeqM8n-",
        "outputId": "ba8f2242-f5f0-44ed-fa78-7fd72183292c"
      },
      "execution_count": 125,
      "outputs": [
        {
          "output_type": "execute_result",
          "data": {
            "text/plain": [
              "4276.650000000001"
            ]
          },
          "metadata": {},
          "execution_count": 125
        }
      ]
    },
    {
      "cell_type": "code",
      "source": [
        "x1=np.array([1,2,3,4,5])\n",
        "x2=np.array([5,4,3])\n",
        "x1_new = x1[:, np.newaxis]\n",
        "print(x1 + x2)"
      ],
      "metadata": {
        "colab": {
          "base_uri": "https://localhost:8080/",
          "height": 200
        },
        "id": "sWZ78gVLKeiA",
        "outputId": "7cbcb619-66bd-4bc7-9d31-c9930e5919a1"
      },
      "execution_count": 126,
      "outputs": [
        {
          "output_type": "error",
          "ename": "ValueError",
          "evalue": "ignored",
          "traceback": [
            "\u001b[0;31m---------------------------------------------------------------------------\u001b[0m",
            "\u001b[0;31mValueError\u001b[0m                                Traceback (most recent call last)",
            "\u001b[0;32m<ipython-input-126-95dd83445334>\u001b[0m in \u001b[0;36m<cell line: 4>\u001b[0;34m()\u001b[0m\n\u001b[1;32m      2\u001b[0m \u001b[0mx2\u001b[0m\u001b[0;34m=\u001b[0m\u001b[0mnp\u001b[0m\u001b[0;34m.\u001b[0m\u001b[0marray\u001b[0m\u001b[0;34m(\u001b[0m\u001b[0;34m[\u001b[0m\u001b[0;36m5\u001b[0m\u001b[0;34m,\u001b[0m\u001b[0;36m4\u001b[0m\u001b[0;34m,\u001b[0m\u001b[0;36m3\u001b[0m\u001b[0;34m]\u001b[0m\u001b[0;34m)\u001b[0m\u001b[0;34m\u001b[0m\u001b[0;34m\u001b[0m\u001b[0m\n\u001b[1;32m      3\u001b[0m \u001b[0mx1_new\u001b[0m \u001b[0;34m=\u001b[0m \u001b[0mx1\u001b[0m\u001b[0;34m[\u001b[0m\u001b[0;34m:\u001b[0m\u001b[0;34m,\u001b[0m \u001b[0mnp\u001b[0m\u001b[0;34m.\u001b[0m\u001b[0mnewaxis\u001b[0m\u001b[0;34m]\u001b[0m\u001b[0;34m\u001b[0m\u001b[0;34m\u001b[0m\u001b[0m\n\u001b[0;32m----> 4\u001b[0;31m \u001b[0mprint\u001b[0m\u001b[0;34m(\u001b[0m\u001b[0mx1\u001b[0m \u001b[0;34m+\u001b[0m \u001b[0mx2\u001b[0m\u001b[0;34m)\u001b[0m\u001b[0;34m\u001b[0m\u001b[0;34m\u001b[0m\u001b[0m\n\u001b[0m",
            "\u001b[0;31mValueError\u001b[0m: operands could not be broadcast together with shapes (5,) (3,) "
          ]
        }
      ]
    },
    {
      "cell_type": "code",
      "source": [],
      "metadata": {
        "id": "VzByod5EOHA1"
      },
      "execution_count": null,
      "outputs": []
    }
  ]
}